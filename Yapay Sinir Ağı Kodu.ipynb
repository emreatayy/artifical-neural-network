{
 "cells": [
  {
   "cell_type": "code",
   "execution_count": 2,
   "id": "73f02dbd",
   "metadata": {},
   "outputs": [],
   "source": [
    "import numpy as np\n",
    "import matplotlib.pyplot as plt\n",
    "import pandas as pd"
   ]
  },
  {
   "cell_type": "code",
   "execution_count": 10,
   "id": "49e9634e",
   "metadata": {},
   "outputs": [],
   "source": [
    "X = np.vstack([(np.random.rand(10, 2)*5), (np.random.rand(10, 2)*10)])\n",
    "Y = np.hstack([[0]*10, [1]*10])\n",
    "dataset = pd.DataFrame(X, columns = {\"X1\", \"X2\"})\n",
    "dataset[\"Y\"] = Y"
   ]
  },
  {
   "cell_type": "code",
   "execution_count": 11,
   "id": "19335562",
   "metadata": {},
   "outputs": [
    {
     "data": {
      "text/html": [
       "<div>\n",
       "<style scoped>\n",
       "    .dataframe tbody tr th:only-of-type {\n",
       "        vertical-align: middle;\n",
       "    }\n",
       "\n",
       "    .dataframe tbody tr th {\n",
       "        vertical-align: top;\n",
       "    }\n",
       "\n",
       "    .dataframe thead th {\n",
       "        text-align: right;\n",
       "    }\n",
       "</style>\n",
       "<table border=\"1\" class=\"dataframe\">\n",
       "  <thead>\n",
       "    <tr style=\"text-align: right;\">\n",
       "      <th></th>\n",
       "      <th>X2</th>\n",
       "      <th>X1</th>\n",
       "      <th>Y</th>\n",
       "    </tr>\n",
       "  </thead>\n",
       "  <tbody>\n",
       "    <tr>\n",
       "      <th>0</th>\n",
       "      <td>3.721326</td>\n",
       "      <td>1.876728</td>\n",
       "      <td>0</td>\n",
       "    </tr>\n",
       "    <tr>\n",
       "      <th>1</th>\n",
       "      <td>2.790588</td>\n",
       "      <td>1.164496</td>\n",
       "      <td>0</td>\n",
       "    </tr>\n",
       "    <tr>\n",
       "      <th>2</th>\n",
       "      <td>3.218600</td>\n",
       "      <td>3.771697</td>\n",
       "      <td>0</td>\n",
       "    </tr>\n",
       "    <tr>\n",
       "      <th>3</th>\n",
       "      <td>4.472779</td>\n",
       "      <td>1.221982</td>\n",
       "      <td>0</td>\n",
       "    </tr>\n",
       "    <tr>\n",
       "      <th>4</th>\n",
       "      <td>3.082079</td>\n",
       "      <td>3.126041</td>\n",
       "      <td>0</td>\n",
       "    </tr>\n",
       "    <tr>\n",
       "      <th>5</th>\n",
       "      <td>3.558422</td>\n",
       "      <td>1.114830</td>\n",
       "      <td>0</td>\n",
       "    </tr>\n",
       "    <tr>\n",
       "      <th>6</th>\n",
       "      <td>3.239238</td>\n",
       "      <td>2.583902</td>\n",
       "      <td>0</td>\n",
       "    </tr>\n",
       "    <tr>\n",
       "      <th>7</th>\n",
       "      <td>4.271474</td>\n",
       "      <td>4.050546</td>\n",
       "      <td>0</td>\n",
       "    </tr>\n",
       "    <tr>\n",
       "      <th>8</th>\n",
       "      <td>0.952653</td>\n",
       "      <td>2.598217</td>\n",
       "      <td>0</td>\n",
       "    </tr>\n",
       "    <tr>\n",
       "      <th>9</th>\n",
       "      <td>3.294411</td>\n",
       "      <td>0.712084</td>\n",
       "      <td>0</td>\n",
       "    </tr>\n",
       "    <tr>\n",
       "      <th>10</th>\n",
       "      <td>8.522908</td>\n",
       "      <td>1.586362</td>\n",
       "      <td>1</td>\n",
       "    </tr>\n",
       "    <tr>\n",
       "      <th>11</th>\n",
       "      <td>2.115070</td>\n",
       "      <td>6.009682</td>\n",
       "      <td>1</td>\n",
       "    </tr>\n",
       "    <tr>\n",
       "      <th>12</th>\n",
       "      <td>3.203167</td>\n",
       "      <td>5.943985</td>\n",
       "      <td>1</td>\n",
       "    </tr>\n",
       "    <tr>\n",
       "      <th>13</th>\n",
       "      <td>4.474943</td>\n",
       "      <td>6.370119</td>\n",
       "      <td>1</td>\n",
       "    </tr>\n",
       "    <tr>\n",
       "      <th>14</th>\n",
       "      <td>9.694592</td>\n",
       "      <td>6.648247</td>\n",
       "      <td>1</td>\n",
       "    </tr>\n",
       "    <tr>\n",
       "      <th>15</th>\n",
       "      <td>1.995903</td>\n",
       "      <td>5.967286</td>\n",
       "      <td>1</td>\n",
       "    </tr>\n",
       "    <tr>\n",
       "      <th>16</th>\n",
       "      <td>6.261915</td>\n",
       "      <td>6.329809</td>\n",
       "      <td>1</td>\n",
       "    </tr>\n",
       "    <tr>\n",
       "      <th>17</th>\n",
       "      <td>2.963315</td>\n",
       "      <td>7.282652</td>\n",
       "      <td>1</td>\n",
       "    </tr>\n",
       "    <tr>\n",
       "      <th>18</th>\n",
       "      <td>9.212014</td>\n",
       "      <td>7.395112</td>\n",
       "      <td>1</td>\n",
       "    </tr>\n",
       "    <tr>\n",
       "      <th>19</th>\n",
       "      <td>6.581811</td>\n",
       "      <td>2.555653</td>\n",
       "      <td>1</td>\n",
       "    </tr>\n",
       "  </tbody>\n",
       "</table>\n",
       "</div>"
      ],
      "text/plain": [
       "          X2        X1  Y\n",
       "0   3.721326  1.876728  0\n",
       "1   2.790588  1.164496  0\n",
       "2   3.218600  3.771697  0\n",
       "3   4.472779  1.221982  0\n",
       "4   3.082079  3.126041  0\n",
       "5   3.558422  1.114830  0\n",
       "6   3.239238  2.583902  0\n",
       "7   4.271474  4.050546  0\n",
       "8   0.952653  2.598217  0\n",
       "9   3.294411  0.712084  0\n",
       "10  8.522908  1.586362  1\n",
       "11  2.115070  6.009682  1\n",
       "12  3.203167  5.943985  1\n",
       "13  4.474943  6.370119  1\n",
       "14  9.694592  6.648247  1\n",
       "15  1.995903  5.967286  1\n",
       "16  6.261915  6.329809  1\n",
       "17  2.963315  7.282652  1\n",
       "18  9.212014  7.395112  1\n",
       "19  6.581811  2.555653  1"
      ]
     },
     "execution_count": 11,
     "metadata": {},
     "output_type": "execute_result"
    }
   ],
   "source": [
    "dataset"
   ]
  },
  {
   "cell_type": "code",
   "execution_count": 12,
   "id": "f5f20cb1",
   "metadata": {},
   "outputs": [
    {
     "data": {
      "text/plain": [
       "<matplotlib.legend.Legend at 0x293e44171c0>"
      ]
     },
     "execution_count": 12,
     "metadata": {},
     "output_type": "execute_result"
    },
    {
     "data": {
      "image/png": "[encoded data removed]",
      "text/plain": [
       "<Figure size 640x480 with 1 Axes>"
      ]
     },
     "metadata": {},
     "output_type": "display_data"
    }
   ],
   "source": [
    "plt.plot(dataset, label=\"Inline label\")\n",
    "plt.legend([\"X2\", \"X1\", \"Y\"])"
   ]
  },
  {
   "cell_type": "code",
   "execution_count": 13,
   "id": "b5d3ac72",
   "metadata": {},
   "outputs": [],
   "source": [
    "Z = np.zeros((20,2))\n",
    "for i in range(20):\n",
    "    Z[i, Y[i]] = 1"
   ]
  },
  {
   "cell_type": "code",
   "execution_count": 17,
   "id": "68260533",
   "metadata": {},
   "outputs": [
    {
     "data": {
      "text/plain": [
       "(20, 2)"
      ]
     },
     "execution_count": 17,
     "metadata": {},
     "output_type": "execute_result"
    }
   ],
   "source": [
    "X.shape"
   ]
  },
  {
   "cell_type": "code",
   "execution_count": 18,
   "id": "7fbdaff0",
   "metadata": {},
   "outputs": [],
   "source": [
    "Wi_1 = np.random.randn(3, 2)\n",
    "Bi_1 = np.random.randn(3)\n",
    "Wi_2 = np.random.randn(3, 2)\n",
    "Bi_2 = np.random.randn(2)"
   ]
  },
  {
   "cell_type": "code",
   "execution_count": 19,
   "id": "a10811d4",
   "metadata": {},
   "outputs": [
    {
     "data": {
      "text/plain": [
       "array([[-0.42016099, -0.00316205],\n",
       "       [ 1.32180681, -0.54863893],\n",
       "       [-0.42519223, -0.08607252]])"
      ]
     },
     "execution_count": 19,
     "metadata": {},
     "output_type": "execute_result"
    }
   ],
   "source": [
    "Wi_1"
   ]
  },
  {
   "cell_type": "code",
   "execution_count": 23,
   "id": "61550eca",
   "metadata": {},
   "outputs": [
    {
     "data": {
      "text/plain": [
       "array([ 0.904918  ,  1.312519  , -0.23706673])"
      ]
     },
     "execution_count": 23,
     "metadata": {},
     "output_type": "execute_result"
    }
   ],
   "source": [
    "Bi_1"
   ]
  },
  {
   "cell_type": "code",
   "execution_count": 24,
   "id": "5823ef88",
   "metadata": {},
   "outputs": [
    {
     "data": {
      "text/plain": [
       "array([[ 1.12652756, -0.77026021],\n",
       "       [ 1.36344858,  0.14267309],\n",
       "       [ 1.68480949, -1.36435829]])"
      ]
     },
     "execution_count": 24,
     "metadata": {},
     "output_type": "execute_result"
    }
   ],
   "source": [
    "Wi_2"
   ]
  },
  {
   "cell_type": "code",
   "execution_count": 25,
   "id": "b7fe1760",
   "metadata": {},
   "outputs": [
    {
     "data": {
      "text/plain": [
       "array([-0.52188966,  0.72744226])"
      ]
     },
     "execution_count": 25,
     "metadata": {},
     "output_type": "execute_result"
    }
   ],
   "source": [
    "Bi_2"
   ]
  },
  {
   "cell_type": "code",
   "execution_count": 26,
   "id": "b705535e",
   "metadata": {},
   "outputs": [
    {
     "data": {
      "text/plain": [
       "array([[-0.42016099,  1.32180681, -0.42519223],\n",
       "       [-0.00316205, -0.54863893, -0.08607252]])"
      ]
     },
     "execution_count": 26,
     "metadata": {},
     "output_type": "execute_result"
    }
   ],
   "source": [
    "Wi_1.T"
   ]
  },
  {
   "cell_type": "code",
   "execution_count": 27,
   "id": "366dcd50",
   "metadata": {},
   "outputs": [
    {
     "data": {
      "text/plain": [
       "array([[3.72132571, 1.8767276 ],\n",
       "       [2.79058774, 1.16449619],\n",
       "       [3.21859982, 3.77169731],\n",
       "       [4.47277868, 1.22198158],\n",
       "       [3.08207876, 3.12604109],\n",
       "       [3.55842216, 1.11483024],\n",
       "       [3.23923755, 2.58390162],\n",
       "       [4.27147402, 4.05054606],\n",
       "       [0.95265291, 2.59821728],\n",
       "       [3.29441141, 0.71208426],\n",
       "       [8.5229084 , 1.58636204],\n",
       "       [2.11507034, 6.00968222],\n",
       "       [3.20316667, 5.94398507],\n",
       "       [4.47494254, 6.37011919],\n",
       "       [9.69459161, 6.64824699],\n",
       "       [1.99590341, 5.96728568],\n",
       "       [6.26191471, 6.32980901],\n",
       "       [2.96331483, 7.28265246],\n",
       "       [9.21201401, 7.39511167],\n",
       "       [6.58181139, 2.55565307]])"
      ]
     },
     "execution_count": 27,
     "metadata": {},
     "output_type": "execute_result"
    }
   ],
   "source": [
    "X"
   ]
  },
  {
   "cell_type": "code",
   "execution_count": 28,
   "id": "e66674f6",
   "metadata": {},
   "outputs": [
    {
     "data": {
      "text/plain": [
       "array([[-1.5694902 ,  3.88922785, -1.74381346],\n",
       "       [-1.1761783 ,  3.04972993, -1.28676735],\n",
       "       [-1.36425638,  2.18506719, -1.69316315],\n",
       "       [-1.88315109,  5.24172267, -2.00696979],\n",
       "       [-1.30485396,  2.35884485, -1.57954219],\n",
       "       [-1.49863533,  4.09190738, -1.60896971],\n",
       "       [-1.36917168,  2.86401723, -1.59970158],\n",
       "       [-1.80751478,  3.42377618, -2.16483829],\n",
       "       [-0.40848328, -0.16626005, -0.62869574],\n",
       "       [-1.38643481,  3.9638983 , -1.46204903],\n",
       "       [-3.5860098 , 10.39529842, -3.76041663],\n",
       "       [-0.90767295, -0.50143127, -1.41658   ],\n",
       "       [-1.36464085,  0.97286589, -1.87357538],\n",
       "       [-1.90033892,  2.42011414, -2.45100305],\n",
       "       [-4.0943113 ,  9.1668901 , -4.69429644],\n",
       "       [-0.8574696 , -0.63568653, -1.36226197],\n",
       "       [-2.65102745,  4.80426186, -3.20734013],\n",
       "       [-1.26809739, -0.07861695, -1.88681473],\n",
       "       [-3.89391264,  8.11925671, -4.55339272],\n",
       "       [-2.7735015 ,  7.29775237, -3.01850658]])"
      ]
     },
     "execution_count": 28,
     "metadata": {},
     "output_type": "execute_result"
    }
   ],
   "source": [
    "X.dot(Wi_1.T)"
   ]
  },
  {
   "cell_type": "code",
   "execution_count": 29,
   "id": "da9f0459",
   "metadata": {},
   "outputs": [],
   "source": [
    "def forward_prop(X, Wi_1, Bi_1, Wi_2, Bi_2):\n",
    "    M = 1 / (1+np.exp(-(X.dot(Wi_1.T)+Bi_1)))\n",
    "    A = M.dot(Wi_2) + Bi_2\n",
    "    expA = np.exp(A)\n",
    "    Y = expA / expA.sum(axis=1, keepdims=True)\n",
    "    return Y,M"
   ]
  },
  {
   "cell_type": "code",
   "execution_count": 30,
   "id": "637ef76d",
   "metadata": {},
   "outputs": [
    {
     "data": {
      "text/plain": [
       "(array([[0.72686153, 0.27313847],\n",
       "        [0.78953253, 0.21046747],\n",
       "        [0.74198473, 0.25801527],\n",
       "        [0.68574465, 0.31425535],\n",
       "        [0.75561525, 0.24438475],\n",
       "        [0.7420293 , 0.2579707 ],\n",
       "        [0.75103915, 0.24896085],\n",
       "        [0.68162503, 0.31837497],\n",
       "        [0.85309434, 0.14690566],\n",
       "        [0.76150546, 0.23849454],\n",
       "        [0.53693091, 0.46306909],\n",
       "        [0.73743825, 0.26256175],\n",
       "        [0.71552777, 0.28447223],\n",
       "        [0.65676746, 0.34323254],\n",
       "        [0.51706993, 0.48293007],\n",
       "        [0.73951713, 0.26048287],\n",
       "        [0.58536392, 0.41463608],\n",
       "        [0.68994154, 0.31005846],\n",
       "        [0.52183011, 0.47816989],\n",
       "        [0.58371418, 0.41628582]]),\n",
       " array([[0.33971328, 0.99452322, 0.12122504],\n",
       "        [0.43259772, 0.98741083, 0.17889763],\n",
       "        [0.38714279, 0.97061901, 0.12672514],\n",
       "        [0.27324252, 0.99857796, 0.09586511],\n",
       "        [0.40132773, 0.97518948, 0.13984127],\n",
       "        [0.35578238, 0.9955235 , 0.13633894],\n",
       "        [0.38597722, 0.98488052, 0.13743395],\n",
       "        [0.28851715, 0.99130518, 0.08302754],\n",
       "        [0.62162111, 0.75882694, 0.29613681],\n",
       "        [0.38189402, 0.99491528, 0.15458079],\n",
       "        [0.06409835, 0.99999177, 0.01803071],\n",
       "        [0.49931126, 0.69234125, 0.16061669],\n",
       "        [0.38705157, 0.90765937, 0.10806676],\n",
       "        [0.26984268, 0.97662951, 0.06368101],\n",
       "        [0.03956683, 0.99997189, 0.00716495],\n",
       "        [0.51185988, 0.66303137, 0.16807546],\n",
       "        [0.14853858, 0.99779931, 0.0309361 ],\n",
       "        [0.41019014, 0.7745008 , 0.10679725],\n",
       "        [0.04792554, 0.99991987, 0.00824017],\n",
       "        [0.13370571, 0.99981781, 0.03712713]]))"
      ]
     },
     "execution_count": 30,
     "metadata": {},
     "output_type": "execute_result"
    }
   ],
   "source": [
    "forward_prop(X, Wi_1, Bi_1, Wi_2, Bi_2)"
   ]
  },
  {
   "cell_type": "code",
   "execution_count": 32,
   "id": "afa31ebc",
   "metadata": {},
   "outputs": [],
   "source": [
    "def diff_Wi_2(H, Z, Y):\n",
    "    return H.T.dot(Z - Y)"
   ]
  },
  {
   "cell_type": "code",
   "execution_count": 34,
   "id": "cd22767a",
   "metadata": {},
   "outputs": [],
   "source": [
    "def diff_Wi_1(x, H, Z, output, Wi_2):\n",
    "    dZ = (Z - output).dot(Wi_2.T) * H * (1 - H)\n",
    "    return X.T.dot(dZ)"
   ]
  },
  {
   "cell_type": "code",
   "execution_count": 41,
   "id": "18890ef1",
   "metadata": {},
   "outputs": [],
   "source": [
    "def diff_B2(Z, Y):\n",
    "    return (Z - Y).sum(axis = 0)\n",
    "\n",
    "def diff_B1(Z, Y, Wi_2, H):\n",
    "    return ((Z - Y).dot(Wi_2.T) * H * (1 - H)).sum(axis = 0)"
   ]
  },
  {
   "cell_type": "code",
   "execution_count": 42,
   "id": "e6efb3f3",
   "metadata": {},
   "outputs": [],
   "source": [
    "learning_rate = 1e-3\n",
    "for epoch in range(5000):\n",
    "    output, hidden = forward_prop(X, Wi_1, Bi_1, Wi_2, Bi_2)\n",
    "    Wi_2 += learning_rate * diff_Wi_2(hidden, Z, output)\n",
    "    Bi_2 += learning_rate * diff_B2(Z, output)    \n",
    "    Wi_1 += learning_rate * diff_Wi_1(X, hidden, Z, output, Wi_2).T\n",
    "    Bi_1 += learning_rate * diff_B1(Z, output, Wi_2, hidden)    "
   ]
  },
  {
   "cell_type": "code",
   "execution_count": 47,
   "id": "69b556b6",
   "metadata": {},
   "outputs": [
    {
     "name": "stdout",
     "output_type": "stream",
     "text": [
      "prb of cls 0 = 0.21097316060782262 \n",
      "prp of cls 1 = 0.7890268393921774\n"
     ]
    }
   ],
   "source": [
    "X_test = np.array([5,5])\n",
    "hidden_output = 1 / (1 + np.exp(-X_test.dot(Wi_1.T) - Bi_1))\n",
    "Outer_layer_output = hidden_output.dot(Wi_2) + Bi_2\n",
    "expA = np.exp(Outer_layer_output)\n",
    "Y = expA / expA.sum()\n",
    "print(\"prb of cls 0 = {} \\nprp of cls 1 = {}\".format(Y[0], Y[1]))"
   ]
  },
  {
   "cell_type": "code",
   "execution_count": null,
   "id": "eb2a23aa",
   "metadata": {},
   "outputs": [],
   "source": []
  }
 ],
 "metadata": {
  "kernelspec": {
   "display_name": "Python 3 (ipykernel)",
   "language": "python",
   "name": "python3"
  },
  "language_info": {
   "codemirror_mode": {
    "name": "ipython",
    "version": 3
   },
   "file_extension": ".py",
   "mimetype": "text/x-python",
   "name": "python",
   "nbconvert_exporter": "python",
   "pygments_lexer": "ipython3",
   "version": "3.9.13"
  }
 },
 "nbformat": 4,
 "nbformat_minor": 5
}
